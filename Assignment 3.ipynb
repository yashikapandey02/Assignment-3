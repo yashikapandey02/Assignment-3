{
 "cells": [
  {
   "cell_type": "code",
   "execution_count": null,
   "id": "ab1ec7ad",
   "metadata": {},
   "outputs": [],
   "source": [
    "1. Why are functions advantageous to have in your programs?\n",
    "Ans: Using Function in a program makes the code reusable and reduce the number of times we need to produce the same thing. "
   ]
  },
  {
   "cell_type": "code",
   "execution_count": null,
   "id": "67ff5ab5",
   "metadata": {},
   "outputs": [],
   "source": [
    "2. When does the code in a function run: when it's specified or when it's called?\n",
    "Ans:a code run's in a function when it is called.    "
   ]
  },
  {
   "cell_type": "code",
   "execution_count": null,
   "id": "7486e0ee",
   "metadata": {},
   "outputs": [],
   "source": [
    "3. What statement creates a function?\n",
    "Ans: A function is created with a def keyword follwed by an identifier() name and a parentheses\n",
    "    example: def Hello ():"
   ]
  },
  {
   "cell_type": "code",
   "execution_count": null,
   "id": "b77d2278",
   "metadata": {},
   "outputs": [],
   "source": [
    "4.What is the difference between a function and a function call?\n",
    "Ans:A function in a code does a particular operation and returns a result. It usually accepts inputs as parameters and returns a result. \n",
    "    Example-Function add(a,b)\n",
    "return a+ b\n",
    "A function call is the code used to pass control to a function.\n",
    "Example\n",
    "b= add(6,7)\n",
    "it will give the output 13"
   ]
  },
  {
   "cell_type": "code",
   "execution_count": null,
   "id": "445d5434",
   "metadata": {},
   "outputs": [],
   "source": [
    "5.How many global scopes are there in a Python program? How many local scopes?\n",
    "Ans: 1 global scope and multiple local scopes i.e. a local scope is created whenever a function is called."
   ]
  },
  {
   "cell_type": "code",
   "execution_count": null,
   "id": "1637345a",
   "metadata": {},
   "outputs": [],
   "source": [
    "6. What happens to variables in a local scope when the function call returns?\n",
    "Ans:When a function returns, the local scope is destroyed, and all the variables in it are forgotten. \n",
    "    A local variable becomes undefined after the function call completes\n"
   ]
  },
  {
   "cell_type": "code",
   "execution_count": null,
   "id": "930214d5",
   "metadata": {},
   "outputs": [],
   "source": [
    "7.What is the concept of a return value? Is it possible to have a return value in an expression?\n",
    "Ans: The return() statement is used to exit a function and returns a value from a function.\n",
    "Yes,it's possible and if  return() statement is without any expression, then the NONE value is returned."
   ]
  },
  {
   "cell_type": "code",
   "execution_count": null,
   "id": "2d1e4a74",
   "metadata": {},
   "outputs": [],
   "source": [
    "8. If a function does not have a return statement, what is the return value of a call to that function?\n",
    "Ans: It will return none"
   ]
  },
  {
   "cell_type": "code",
   "execution_count": null,
   "id": "39b15532",
   "metadata": {},
   "outputs": [],
   "source": [
    "9. How do you make a function variable refer to the global variable?\n",
    "Ans:By declaring it as a global within each function that assigns a value to it."
   ]
  },
  {
   "cell_type": "code",
   "execution_count": null,
   "id": "c28c74a0",
   "metadata": {},
   "outputs": [],
   "source": [
    "10. What is the data type of None?\n",
    "Ans:None is a datatype of its own i.e. NoneType"
   ]
  },
  {
   "cell_type": "code",
   "execution_count": null,
   "id": "b4ed3448",
   "metadata": {},
   "outputs": [],
   "source": [
    "11.What does the sentence import areallyourpetsnamederic do?\n",
    "Ans:That import statement imports a module named areallyourpetsnamederic."
   ]
  },
  {
   "cell_type": "code",
   "execution_count": null,
   "id": "44ebfb0f",
   "metadata": {},
   "outputs": [],
   "source": [
    "12. If you had a bacon() feature in a spam module, what would you call it after importing spam?\n",
    "Ans:This function can be called with spam.bacon()"
   ]
  },
  {
   "cell_type": "code",
   "execution_count": null,
   "id": "58e13cdd",
   "metadata": {},
   "outputs": [],
   "source": [
    "13. What can you do to save a programme from crashing if it encounters an error?\n",
    "Ans:Put the line of code that is causing an error in  try clause"
   ]
  },
  {
   "cell_type": "code",
   "execution_count": null,
   "id": "76152538",
   "metadata": {},
   "outputs": [],
   "source": [
    "14. What is the purpose of the try clause? What is the purpose of the except clause?\n",
    "Ans:-The code that could potentially cause an error goes in the try clause.\n",
    "-The code that executes if an error happens goes in the except clause."
   ]
  }
 ],
 "metadata": {
  "kernelspec": {
   "display_name": "Python 3 (ipykernel)",
   "language": "python",
   "name": "python3"
  },
  "language_info": {
   "codemirror_mode": {
    "name": "ipython",
    "version": 3
   },
   "file_extension": ".py",
   "mimetype": "text/x-python",
   "name": "python",
   "nbconvert_exporter": "python",
   "pygments_lexer": "ipython3",
   "version": "3.9.7"
  }
 },
 "nbformat": 4,
 "nbformat_minor": 5
}
